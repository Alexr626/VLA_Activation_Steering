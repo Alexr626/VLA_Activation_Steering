{
 "cells": [
  {
   "cell_type": "markdown",
   "metadata": {
    "id": "0e6NLs0SjKHH"
   },
   "source": [
    "# Activation Additions (GPT-2-XL)\n",
    "\n",
    "> Indented block\n",
    "\n",
    "\n",
    "\n",
    "\n",
    "For running on Google Colab, change **Runtime -> GPU with High Ram**.\n"
   ]
  },
  {
   "cell_type": "code",
   "execution_count": 1,
   "metadata": {},
   "outputs": [],
   "source": [
    "# Uncomment if using google colab\n",
    "\n",
    "# try:\n",
    "#   import google.colab\n",
    "#   %pip install transformer_lens\n",
    "# except:\n",
    "#   pass"
   ]
  },
  {
   "cell_type": "code",
   "execution_count": 2,
   "metadata": {
    "colab": {
     "base_uri": "https://localhost:8080/"
    },
    "id": "dutuYZQVjOgd",
    "outputId": "05ec3c17-6041-4428-e0cd-b63eac923440"
   },
   "outputs": [
    {
     "name": "stdout",
     "output_type": "stream",
     "text": [
      "Requirement already satisfied: torch in /home/alex/miniconda3/envs/RobotInterpretability/lib/python3.13/site-packages (2.8.0)\n",
      "Requirement already satisfied: filelock in /home/alex/miniconda3/envs/RobotInterpretability/lib/python3.13/site-packages (from torch) (3.19.1)\n",
      "Requirement already satisfied: typing-extensions>=4.10.0 in /home/alex/miniconda3/envs/RobotInterpretability/lib/python3.13/site-packages (from torch) (4.15.0)\n",
      "Requirement already satisfied: setuptools in /home/alex/miniconda3/envs/RobotInterpretability/lib/python3.13/site-packages (from torch) (80.9.0)\n",
      "Requirement already satisfied: sympy>=1.13.3 in /home/alex/miniconda3/envs/RobotInterpretability/lib/python3.13/site-packages (from torch) (1.14.0)\n",
      "Requirement already satisfied: networkx in /home/alex/miniconda3/envs/RobotInterpretability/lib/python3.13/site-packages (from torch) (3.5)\n",
      "Requirement already satisfied: jinja2 in /home/alex/miniconda3/envs/RobotInterpretability/lib/python3.13/site-packages (from torch) (3.1.6)\n",
      "Requirement already satisfied: fsspec in /home/alex/miniconda3/envs/RobotInterpretability/lib/python3.13/site-packages (from torch) (2025.9.0)\n",
      "Requirement already satisfied: nvidia-cuda-nvrtc-cu12==12.8.93 in /home/alex/miniconda3/envs/RobotInterpretability/lib/python3.13/site-packages (from torch) (12.8.93)\n",
      "Requirement already satisfied: nvidia-cuda-runtime-cu12==12.8.90 in /home/alex/miniconda3/envs/RobotInterpretability/lib/python3.13/site-packages (from torch) (12.8.90)\n",
      "Requirement already satisfied: nvidia-cuda-cupti-cu12==12.8.90 in /home/alex/miniconda3/envs/RobotInterpretability/lib/python3.13/site-packages (from torch) (12.8.90)\n",
      "Requirement already satisfied: nvidia-cudnn-cu12==9.10.2.21 in /home/alex/miniconda3/envs/RobotInterpretability/lib/python3.13/site-packages (from torch) (9.10.2.21)\n",
      "Requirement already satisfied: nvidia-cublas-cu12==12.8.4.1 in /home/alex/miniconda3/envs/RobotInterpretability/lib/python3.13/site-packages (from torch) (12.8.4.1)\n",
      "Requirement already satisfied: nvidia-cufft-cu12==11.3.3.83 in /home/alex/miniconda3/envs/RobotInterpretability/lib/python3.13/site-packages (from torch) (11.3.3.83)\n",
      "Requirement already satisfied: nvidia-curand-cu12==10.3.9.90 in /home/alex/miniconda3/envs/RobotInterpretability/lib/python3.13/site-packages (from torch) (10.3.9.90)\n",
      "Requirement already satisfied: nvidia-cusolver-cu12==11.7.3.90 in /home/alex/miniconda3/envs/RobotInterpretability/lib/python3.13/site-packages (from torch) (11.7.3.90)\n",
      "Requirement already satisfied: nvidia-cusparse-cu12==12.5.8.93 in /home/alex/miniconda3/envs/RobotInterpretability/lib/python3.13/site-packages (from torch) (12.5.8.93)\n",
      "Requirement already satisfied: nvidia-cusparselt-cu12==0.7.1 in /home/alex/miniconda3/envs/RobotInterpretability/lib/python3.13/site-packages (from torch) (0.7.1)\n",
      "Requirement already satisfied: nvidia-nccl-cu12==2.27.3 in /home/alex/miniconda3/envs/RobotInterpretability/lib/python3.13/site-packages (from torch) (2.27.3)\n",
      "Requirement already satisfied: nvidia-nvtx-cu12==12.8.90 in /home/alex/miniconda3/envs/RobotInterpretability/lib/python3.13/site-packages (from torch) (12.8.90)\n",
      "Requirement already satisfied: nvidia-nvjitlink-cu12==12.8.93 in /home/alex/miniconda3/envs/RobotInterpretability/lib/python3.13/site-packages (from torch) (12.8.93)\n",
      "Requirement already satisfied: nvidia-cufile-cu12==1.13.1.3 in /home/alex/miniconda3/envs/RobotInterpretability/lib/python3.13/site-packages (from torch) (1.13.1.3)\n",
      "Requirement already satisfied: triton==3.4.0 in /home/alex/miniconda3/envs/RobotInterpretability/lib/python3.13/site-packages (from torch) (3.4.0)\n",
      "Requirement already satisfied: mpmath<1.4,>=1.1.0 in /home/alex/miniconda3/envs/RobotInterpretability/lib/python3.13/site-packages (from sympy>=1.13.3->torch) (1.3.0)\n",
      "Requirement already satisfied: MarkupSafe>=2.0 in /home/alex/miniconda3/envs/RobotInterpretability/lib/python3.13/site-packages (from jinja2->torch) (3.0.3)\n",
      "Note: you may need to restart the kernel to use updated packages.\n",
      "Requirement already satisfied: transformer_lens in /home/alex/miniconda3/envs/RobotInterpretability/lib/python3.13/site-packages (2.16.1)\n",
      "Requirement already satisfied: accelerate>=0.23.0 in /home/alex/miniconda3/envs/RobotInterpretability/lib/python3.13/site-packages (from transformer_lens) (1.10.1)\n",
      "Requirement already satisfied: beartype<0.15.0,>=0.14.1 in /home/alex/miniconda3/envs/RobotInterpretability/lib/python3.13/site-packages (from transformer_lens) (0.14.1)\n",
      "Requirement already satisfied: better-abc<0.0.4,>=0.0.3 in /home/alex/miniconda3/envs/RobotInterpretability/lib/python3.13/site-packages (from transformer_lens) (0.0.3)\n",
      "Requirement already satisfied: datasets>=2.7.1 in /home/alex/miniconda3/envs/RobotInterpretability/lib/python3.13/site-packages (from transformer_lens) (4.1.1)\n",
      "Requirement already satisfied: einops>=0.6.0 in /home/alex/miniconda3/envs/RobotInterpretability/lib/python3.13/site-packages (from transformer_lens) (0.8.1)\n",
      "Requirement already satisfied: fancy-einsum>=0.0.3 in /home/alex/miniconda3/envs/RobotInterpretability/lib/python3.13/site-packages (from transformer_lens) (0.0.3)\n",
      "Requirement already satisfied: jaxtyping>=0.2.11 in /home/alex/miniconda3/envs/RobotInterpretability/lib/python3.13/site-packages (from transformer_lens) (0.3.2)\n",
      "Requirement already satisfied: pandas>=1.1.5 in /home/alex/miniconda3/envs/RobotInterpretability/lib/python3.13/site-packages (from transformer_lens) (2.3.3)\n",
      "Requirement already satisfied: rich>=12.6.0 in /home/alex/miniconda3/envs/RobotInterpretability/lib/python3.13/site-packages (from transformer_lens) (14.1.0)\n",
      "Requirement already satisfied: sentencepiece in /home/alex/miniconda3/envs/RobotInterpretability/lib/python3.13/site-packages (from transformer_lens) (0.2.1)\n",
      "Requirement already satisfied: torch>=2.6 in /home/alex/miniconda3/envs/RobotInterpretability/lib/python3.13/site-packages (from transformer_lens) (2.8.0)\n",
      "Requirement already satisfied: tqdm>=4.64.1 in /home/alex/miniconda3/envs/RobotInterpretability/lib/python3.13/site-packages (from transformer_lens) (4.67.1)\n",
      "Requirement already satisfied: transformers>=4.51 in /home/alex/miniconda3/envs/RobotInterpretability/lib/python3.13/site-packages (from transformer_lens) (4.56.2)\n",
      "Requirement already satisfied: transformers-stream-generator<0.0.6,>=0.0.5 in /home/alex/miniconda3/envs/RobotInterpretability/lib/python3.13/site-packages (from transformer_lens) (0.0.5)\n",
      "Requirement already satisfied: typeguard<5.0,>=4.2 in /home/alex/miniconda3/envs/RobotInterpretability/lib/python3.13/site-packages (from transformer_lens) (4.4.4)\n",
      "Requirement already satisfied: typing-extensions in /home/alex/miniconda3/envs/RobotInterpretability/lib/python3.13/site-packages (from transformer_lens) (4.15.0)\n",
      "Requirement already satisfied: wandb>=0.13.5 in /home/alex/miniconda3/envs/RobotInterpretability/lib/python3.13/site-packages (from transformer_lens) (0.22.1)\n",
      "Requirement already satisfied: numpy<3.0.0,>=1.17 in /home/alex/miniconda3/envs/RobotInterpretability/lib/python3.13/site-packages (from accelerate>=0.23.0->transformer_lens) (2.3.3)\n",
      "Requirement already satisfied: packaging>=20.0 in /home/alex/miniconda3/envs/RobotInterpretability/lib/python3.13/site-packages (from accelerate>=0.23.0->transformer_lens) (25.0)\n",
      "Requirement already satisfied: psutil in /home/alex/miniconda3/envs/RobotInterpretability/lib/python3.13/site-packages (from accelerate>=0.23.0->transformer_lens) (7.1.0)\n",
      "Requirement already satisfied: pyyaml in /home/alex/miniconda3/envs/RobotInterpretability/lib/python3.13/site-packages (from accelerate>=0.23.0->transformer_lens) (6.0.3)\n",
      "Requirement already satisfied: huggingface_hub>=0.21.0 in /home/alex/miniconda3/envs/RobotInterpretability/lib/python3.13/site-packages (from accelerate>=0.23.0->transformer_lens) (0.35.3)\n",
      "Requirement already satisfied: safetensors>=0.4.3 in /home/alex/miniconda3/envs/RobotInterpretability/lib/python3.13/site-packages (from accelerate>=0.23.0->transformer_lens) (0.6.2)\n",
      "Requirement already satisfied: filelock in /home/alex/miniconda3/envs/RobotInterpretability/lib/python3.13/site-packages (from datasets>=2.7.1->transformer_lens) (3.19.1)\n",
      "Requirement already satisfied: pyarrow>=21.0.0 in /home/alex/miniconda3/envs/RobotInterpretability/lib/python3.13/site-packages (from datasets>=2.7.1->transformer_lens) (21.0.0)\n",
      "Requirement already satisfied: dill<0.4.1,>=0.3.0 in /home/alex/miniconda3/envs/RobotInterpretability/lib/python3.13/site-packages (from datasets>=2.7.1->transformer_lens) (0.4.0)\n",
      "Requirement already satisfied: requests>=2.32.2 in /home/alex/miniconda3/envs/RobotInterpretability/lib/python3.13/site-packages (from datasets>=2.7.1->transformer_lens) (2.32.5)\n",
      "Requirement already satisfied: xxhash in /home/alex/miniconda3/envs/RobotInterpretability/lib/python3.13/site-packages (from datasets>=2.7.1->transformer_lens) (3.5.0)\n",
      "Requirement already satisfied: multiprocess<0.70.17 in /home/alex/miniconda3/envs/RobotInterpretability/lib/python3.13/site-packages (from datasets>=2.7.1->transformer_lens) (0.70.16)\n",
      "Requirement already satisfied: fsspec<=2025.9.0,>=2023.1.0 in /home/alex/miniconda3/envs/RobotInterpretability/lib/python3.13/site-packages (from fsspec[http]<=2025.9.0,>=2023.1.0->datasets>=2.7.1->transformer_lens) (2025.9.0)\n",
      "Requirement already satisfied: aiohttp!=4.0.0a0,!=4.0.0a1 in /home/alex/miniconda3/envs/RobotInterpretability/lib/python3.13/site-packages (from fsspec[http]<=2025.9.0,>=2023.1.0->datasets>=2.7.1->transformer_lens) (3.12.15)\n",
      "Requirement already satisfied: aiohappyeyeballs>=2.5.0 in /home/alex/miniconda3/envs/RobotInterpretability/lib/python3.13/site-packages (from aiohttp!=4.0.0a0,!=4.0.0a1->fsspec[http]<=2025.9.0,>=2023.1.0->datasets>=2.7.1->transformer_lens) (2.6.1)\n",
      "Requirement already satisfied: aiosignal>=1.4.0 in /home/alex/miniconda3/envs/RobotInterpretability/lib/python3.13/site-packages (from aiohttp!=4.0.0a0,!=4.0.0a1->fsspec[http]<=2025.9.0,>=2023.1.0->datasets>=2.7.1->transformer_lens) (1.4.0)\n",
      "Requirement already satisfied: attrs>=17.3.0 in /home/alex/miniconda3/envs/RobotInterpretability/lib/python3.13/site-packages (from aiohttp!=4.0.0a0,!=4.0.0a1->fsspec[http]<=2025.9.0,>=2023.1.0->datasets>=2.7.1->transformer_lens) (25.3.0)\n",
      "Requirement already satisfied: frozenlist>=1.1.1 in /home/alex/miniconda3/envs/RobotInterpretability/lib/python3.13/site-packages (from aiohttp!=4.0.0a0,!=4.0.0a1->fsspec[http]<=2025.9.0,>=2023.1.0->datasets>=2.7.1->transformer_lens) (1.7.0)\n",
      "Requirement already satisfied: multidict<7.0,>=4.5 in /home/alex/miniconda3/envs/RobotInterpretability/lib/python3.13/site-packages (from aiohttp!=4.0.0a0,!=4.0.0a1->fsspec[http]<=2025.9.0,>=2023.1.0->datasets>=2.7.1->transformer_lens) (6.6.4)\n",
      "Requirement already satisfied: propcache>=0.2.0 in /home/alex/miniconda3/envs/RobotInterpretability/lib/python3.13/site-packages (from aiohttp!=4.0.0a0,!=4.0.0a1->fsspec[http]<=2025.9.0,>=2023.1.0->datasets>=2.7.1->transformer_lens) (0.3.2)\n",
      "Requirement already satisfied: yarl<2.0,>=1.17.0 in /home/alex/miniconda3/envs/RobotInterpretability/lib/python3.13/site-packages (from aiohttp!=4.0.0a0,!=4.0.0a1->fsspec[http]<=2025.9.0,>=2023.1.0->datasets>=2.7.1->transformer_lens) (1.20.1)\n",
      "Requirement already satisfied: idna>=2.0 in /home/alex/miniconda3/envs/RobotInterpretability/lib/python3.13/site-packages (from yarl<2.0,>=1.17.0->aiohttp!=4.0.0a0,!=4.0.0a1->fsspec[http]<=2025.9.0,>=2023.1.0->datasets>=2.7.1->transformer_lens) (3.10)\n",
      "Requirement already satisfied: hf-xet<2.0.0,>=1.1.3 in /home/alex/miniconda3/envs/RobotInterpretability/lib/python3.13/site-packages (from huggingface_hub>=0.21.0->accelerate>=0.23.0->transformer_lens) (1.1.10)\n",
      "Requirement already satisfied: wadler-lindig>=0.1.3 in /home/alex/miniconda3/envs/RobotInterpretability/lib/python3.13/site-packages (from jaxtyping>=0.2.11->transformer_lens) (0.1.7)\n",
      "Requirement already satisfied: python-dateutil>=2.8.2 in /home/alex/miniconda3/envs/RobotInterpretability/lib/python3.13/site-packages (from pandas>=1.1.5->transformer_lens) (2.9.0.post0)\n",
      "Requirement already satisfied: pytz>=2020.1 in /home/alex/miniconda3/envs/RobotInterpretability/lib/python3.13/site-packages (from pandas>=1.1.5->transformer_lens) (2025.2)\n",
      "Requirement already satisfied: tzdata>=2022.7 in /home/alex/miniconda3/envs/RobotInterpretability/lib/python3.13/site-packages (from pandas>=1.1.5->transformer_lens) (2025.2)\n",
      "Requirement already satisfied: six>=1.5 in /home/alex/miniconda3/envs/RobotInterpretability/lib/python3.13/site-packages (from python-dateutil>=2.8.2->pandas>=1.1.5->transformer_lens) (1.17.0)\n",
      "Requirement already satisfied: charset_normalizer<4,>=2 in /home/alex/miniconda3/envs/RobotInterpretability/lib/python3.13/site-packages (from requests>=2.32.2->datasets>=2.7.1->transformer_lens) (3.4.3)\n",
      "Requirement already satisfied: urllib3<3,>=1.21.1 in /home/alex/miniconda3/envs/RobotInterpretability/lib/python3.13/site-packages (from requests>=2.32.2->datasets>=2.7.1->transformer_lens) (2.5.0)\n",
      "Requirement already satisfied: certifi>=2017.4.17 in /home/alex/miniconda3/envs/RobotInterpretability/lib/python3.13/site-packages (from requests>=2.32.2->datasets>=2.7.1->transformer_lens) (2025.8.3)\n",
      "Requirement already satisfied: markdown-it-py>=2.2.0 in /home/alex/miniconda3/envs/RobotInterpretability/lib/python3.13/site-packages (from rich>=12.6.0->transformer_lens) (4.0.0)\n",
      "Requirement already satisfied: pygments<3.0.0,>=2.13.0 in /home/alex/miniconda3/envs/RobotInterpretability/lib/python3.13/site-packages (from rich>=12.6.0->transformer_lens) (2.19.2)\n",
      "Requirement already satisfied: mdurl~=0.1 in /home/alex/miniconda3/envs/RobotInterpretability/lib/python3.13/site-packages (from markdown-it-py>=2.2.0->rich>=12.6.0->transformer_lens) (0.1.2)\n",
      "Requirement already satisfied: setuptools in /home/alex/miniconda3/envs/RobotInterpretability/lib/python3.13/site-packages (from torch>=2.6->transformer_lens) (80.9.0)\n",
      "Requirement already satisfied: sympy>=1.13.3 in /home/alex/miniconda3/envs/RobotInterpretability/lib/python3.13/site-packages (from torch>=2.6->transformer_lens) (1.14.0)\n",
      "Requirement already satisfied: networkx in /home/alex/miniconda3/envs/RobotInterpretability/lib/python3.13/site-packages (from torch>=2.6->transformer_lens) (3.5)\n",
      "Requirement already satisfied: jinja2 in /home/alex/miniconda3/envs/RobotInterpretability/lib/python3.13/site-packages (from torch>=2.6->transformer_lens) (3.1.6)\n",
      "Requirement already satisfied: nvidia-cuda-nvrtc-cu12==12.8.93 in /home/alex/miniconda3/envs/RobotInterpretability/lib/python3.13/site-packages (from torch>=2.6->transformer_lens) (12.8.93)\n",
      "Requirement already satisfied: nvidia-cuda-runtime-cu12==12.8.90 in /home/alex/miniconda3/envs/RobotInterpretability/lib/python3.13/site-packages (from torch>=2.6->transformer_lens) (12.8.90)\n",
      "Requirement already satisfied: nvidia-cuda-cupti-cu12==12.8.90 in /home/alex/miniconda3/envs/RobotInterpretability/lib/python3.13/site-packages (from torch>=2.6->transformer_lens) (12.8.90)\n",
      "Requirement already satisfied: nvidia-cudnn-cu12==9.10.2.21 in /home/alex/miniconda3/envs/RobotInterpretability/lib/python3.13/site-packages (from torch>=2.6->transformer_lens) (9.10.2.21)\n",
      "Requirement already satisfied: nvidia-cublas-cu12==12.8.4.1 in /home/alex/miniconda3/envs/RobotInterpretability/lib/python3.13/site-packages (from torch>=2.6->transformer_lens) (12.8.4.1)\n",
      "Requirement already satisfied: nvidia-cufft-cu12==11.3.3.83 in /home/alex/miniconda3/envs/RobotInterpretability/lib/python3.13/site-packages (from torch>=2.6->transformer_lens) (11.3.3.83)\n",
      "Requirement already satisfied: nvidia-curand-cu12==10.3.9.90 in /home/alex/miniconda3/envs/RobotInterpretability/lib/python3.13/site-packages (from torch>=2.6->transformer_lens) (10.3.9.90)\n",
      "Requirement already satisfied: nvidia-cusolver-cu12==11.7.3.90 in /home/alex/miniconda3/envs/RobotInterpretability/lib/python3.13/site-packages (from torch>=2.6->transformer_lens) (11.7.3.90)\n",
      "Requirement already satisfied: nvidia-cusparse-cu12==12.5.8.93 in /home/alex/miniconda3/envs/RobotInterpretability/lib/python3.13/site-packages (from torch>=2.6->transformer_lens) (12.5.8.93)\n",
      "Requirement already satisfied: nvidia-cusparselt-cu12==0.7.1 in /home/alex/miniconda3/envs/RobotInterpretability/lib/python3.13/site-packages (from torch>=2.6->transformer_lens) (0.7.1)\n",
      "Requirement already satisfied: nvidia-nccl-cu12==2.27.3 in /home/alex/miniconda3/envs/RobotInterpretability/lib/python3.13/site-packages (from torch>=2.6->transformer_lens) (2.27.3)\n",
      "Requirement already satisfied: nvidia-nvtx-cu12==12.8.90 in /home/alex/miniconda3/envs/RobotInterpretability/lib/python3.13/site-packages (from torch>=2.6->transformer_lens) (12.8.90)\n",
      "Requirement already satisfied: nvidia-nvjitlink-cu12==12.8.93 in /home/alex/miniconda3/envs/RobotInterpretability/lib/python3.13/site-packages (from torch>=2.6->transformer_lens) (12.8.93)\n",
      "Requirement already satisfied: nvidia-cufile-cu12==1.13.1.3 in /home/alex/miniconda3/envs/RobotInterpretability/lib/python3.13/site-packages (from torch>=2.6->transformer_lens) (1.13.1.3)\n",
      "Requirement already satisfied: triton==3.4.0 in /home/alex/miniconda3/envs/RobotInterpretability/lib/python3.13/site-packages (from torch>=2.6->transformer_lens) (3.4.0)\n",
      "Requirement already satisfied: mpmath<1.4,>=1.1.0 in /home/alex/miniconda3/envs/RobotInterpretability/lib/python3.13/site-packages (from sympy>=1.13.3->torch>=2.6->transformer_lens) (1.3.0)\n",
      "Requirement already satisfied: regex!=2019.12.17 in /home/alex/miniconda3/envs/RobotInterpretability/lib/python3.13/site-packages (from transformers>=4.51->transformer_lens) (2025.9.18)\n",
      "Requirement already satisfied: tokenizers<=0.23.0,>=0.22.0 in /home/alex/miniconda3/envs/RobotInterpretability/lib/python3.13/site-packages (from transformers>=4.51->transformer_lens) (0.22.1)\n",
      "Requirement already satisfied: click>=8.0.1 in /home/alex/miniconda3/envs/RobotInterpretability/lib/python3.13/site-packages (from wandb>=0.13.5->transformer_lens) (8.3.0)\n",
      "Requirement already satisfied: gitpython!=3.1.29,>=1.0.0 in /home/alex/miniconda3/envs/RobotInterpretability/lib/python3.13/site-packages (from wandb>=0.13.5->transformer_lens) (3.1.45)\n",
      "Requirement already satisfied: platformdirs in /home/alex/miniconda3/envs/RobotInterpretability/lib/python3.13/site-packages (from wandb>=0.13.5->transformer_lens) (4.4.0)\n",
      "Requirement already satisfied: protobuf!=4.21.0,!=5.28.0,<7,>=3.19.0 in /home/alex/miniconda3/envs/RobotInterpretability/lib/python3.13/site-packages (from wandb>=0.13.5->transformer_lens) (6.32.1)\n",
      "Requirement already satisfied: pydantic<3 in /home/alex/miniconda3/envs/RobotInterpretability/lib/python3.13/site-packages (from wandb>=0.13.5->transformer_lens) (2.11.9)\n",
      "Requirement already satisfied: sentry-sdk>=2.0.0 in /home/alex/miniconda3/envs/RobotInterpretability/lib/python3.13/site-packages (from wandb>=0.13.5->transformer_lens) (2.39.0)\n",
      "Requirement already satisfied: annotated-types>=0.6.0 in /home/alex/miniconda3/envs/RobotInterpretability/lib/python3.13/site-packages (from pydantic<3->wandb>=0.13.5->transformer_lens) (0.7.0)\n",
      "Requirement already satisfied: pydantic-core==2.33.2 in /home/alex/miniconda3/envs/RobotInterpretability/lib/python3.13/site-packages (from pydantic<3->wandb>=0.13.5->transformer_lens) (2.33.2)\n",
      "Requirement already satisfied: typing-inspection>=0.4.0 in /home/alex/miniconda3/envs/RobotInterpretability/lib/python3.13/site-packages (from pydantic<3->wandb>=0.13.5->transformer_lens) (0.4.2)\n",
      "Requirement already satisfied: gitdb<5,>=4.0.1 in /home/alex/miniconda3/envs/RobotInterpretability/lib/python3.13/site-packages (from gitpython!=3.1.29,>=1.0.0->wandb>=0.13.5->transformer_lens) (4.0.12)\n",
      "Requirement already satisfied: smmap<6,>=3.0.1 in /home/alex/miniconda3/envs/RobotInterpretability/lib/python3.13/site-packages (from gitdb<5,>=4.0.1->gitpython!=3.1.29,>=1.0.0->wandb>=0.13.5->transformer_lens) (5.0.2)\n",
      "Requirement already satisfied: MarkupSafe>=2.0 in /home/alex/miniconda3/envs/RobotInterpretability/lib/python3.13/site-packages (from jinja2->torch>=2.6->transformer_lens) (3.0.3)\n",
      "Note: you may need to restart the kernel to use updated packages.\n",
      "Requirement already satisfied: ipywidgets in /home/alex/miniconda3/envs/RobotInterpretability/lib/python3.13/site-packages (8.1.7)\n",
      "Requirement already satisfied: comm>=0.1.3 in /home/alex/miniconda3/envs/RobotInterpretability/lib/python3.13/site-packages (from ipywidgets) (0.2.3)\n",
      "Requirement already satisfied: ipython>=6.1.0 in /home/alex/miniconda3/envs/RobotInterpretability/lib/python3.13/site-packages (from ipywidgets) (9.6.0)\n",
      "Requirement already satisfied: traitlets>=4.3.1 in /home/alex/miniconda3/envs/RobotInterpretability/lib/python3.13/site-packages (from ipywidgets) (5.14.3)\n",
      "Requirement already satisfied: widgetsnbextension~=4.0.14 in /home/alex/miniconda3/envs/RobotInterpretability/lib/python3.13/site-packages (from ipywidgets) (4.0.14)\n",
      "Requirement already satisfied: jupyterlab_widgets~=3.0.15 in /home/alex/miniconda3/envs/RobotInterpretability/lib/python3.13/site-packages (from ipywidgets) (3.0.15)\n",
      "Requirement already satisfied: decorator in /home/alex/miniconda3/envs/RobotInterpretability/lib/python3.13/site-packages (from ipython>=6.1.0->ipywidgets) (5.2.1)\n",
      "Requirement already satisfied: ipython-pygments-lexers in /home/alex/miniconda3/envs/RobotInterpretability/lib/python3.13/site-packages (from ipython>=6.1.0->ipywidgets) (1.1.1)\n",
      "Requirement already satisfied: jedi>=0.16 in /home/alex/miniconda3/envs/RobotInterpretability/lib/python3.13/site-packages (from ipython>=6.1.0->ipywidgets) (0.19.2)\n",
      "Requirement already satisfied: matplotlib-inline in /home/alex/miniconda3/envs/RobotInterpretability/lib/python3.13/site-packages (from ipython>=6.1.0->ipywidgets) (0.1.7)\n",
      "Requirement already satisfied: pexpect>4.3 in /home/alex/miniconda3/envs/RobotInterpretability/lib/python3.13/site-packages (from ipython>=6.1.0->ipywidgets) (4.9.0)\n",
      "Requirement already satisfied: prompt_toolkit<3.1.0,>=3.0.41 in /home/alex/miniconda3/envs/RobotInterpretability/lib/python3.13/site-packages (from ipython>=6.1.0->ipywidgets) (3.0.52)\n",
      "Requirement already satisfied: pygments>=2.4.0 in /home/alex/miniconda3/envs/RobotInterpretability/lib/python3.13/site-packages (from ipython>=6.1.0->ipywidgets) (2.19.2)\n",
      "Requirement already satisfied: stack_data in /home/alex/miniconda3/envs/RobotInterpretability/lib/python3.13/site-packages (from ipython>=6.1.0->ipywidgets) (0.6.3)\n",
      "Requirement already satisfied: wcwidth in /home/alex/miniconda3/envs/RobotInterpretability/lib/python3.13/site-packages (from prompt_toolkit<3.1.0,>=3.0.41->ipython>=6.1.0->ipywidgets) (0.2.14)\n",
      "Requirement already satisfied: parso<0.9.0,>=0.8.4 in /home/alex/miniconda3/envs/RobotInterpretability/lib/python3.13/site-packages (from jedi>=0.16->ipython>=6.1.0->ipywidgets) (0.8.5)\n",
      "Requirement already satisfied: ptyprocess>=0.5 in /home/alex/miniconda3/envs/RobotInterpretability/lib/python3.13/site-packages (from pexpect>4.3->ipython>=6.1.0->ipywidgets) (0.7.0)\n",
      "Requirement already satisfied: executing>=1.2.0 in /home/alex/miniconda3/envs/RobotInterpretability/lib/python3.13/site-packages (from stack_data->ipython>=6.1.0->ipywidgets) (2.2.1)\n",
      "Requirement already satisfied: asttokens>=2.1.0 in /home/alex/miniconda3/envs/RobotInterpretability/lib/python3.13/site-packages (from stack_data->ipython>=6.1.0->ipywidgets) (3.0.0)\n",
      "Requirement already satisfied: pure_eval in /home/alex/miniconda3/envs/RobotInterpretability/lib/python3.13/site-packages (from stack_data->ipython>=6.1.0->ipywidgets) (0.2.3)\n",
      "Note: you may need to restart the kernel to use updated packages.\n"
     ]
    }
   ],
   "source": [
    "%pip install torch\n",
    "%pip install transformer_lens\n",
    "%pip install ipywidgets"
   ]
  },
  {
   "cell_type": "code",
   "execution_count": 3,
   "metadata": {
    "id": "vDKz-lyOjKHK"
   },
   "outputs": [],
   "source": [
    "import torch\n",
    "import gc\n",
    "from transformer_lens import HookedTransformer\n",
    "from typing import Dict, Union, List"
   ]
  },
  {
   "cell_type": "markdown",
   "metadata": {
    "id": "6YBF1tVFjKHL"
   },
   "source": [
    " ## Load the model"
   ]
  },
  {
   "cell_type": "code",
   "execution_count": 4,
   "metadata": {},
   "outputs": [
    {
     "data": {
      "text/plain": [
       "674"
      ]
     },
     "execution_count": 4,
     "metadata": {},
     "output_type": "execute_result"
    }
   ],
   "source": [
    "torch.cuda.empty_cache()\n",
    "gc.collect()"
   ]
  },
  {
   "cell_type": "markdown",
   "metadata": {},
   "source": [
    "#### Before proceeding: create a hugging face token, insert it below"
   ]
  },
  {
   "cell_type": "code",
   "execution_count": null,
   "metadata": {
    "colab": {
     "base_uri": "https://localhost:8080/",
     "height": 333,
     "referenced_widgets": [
      "bc12fcf44a1d45c995efea6a2f07b829",
      "243eceee731b4f4eabd3538388a6d688",
      "10dc61cad48945baade67e4410d66319",
      "ad71e92f2d7c424d93436a5dc6939abd",
      "1da5133a293649fea4dcc98ece7dd821",
      "e110b279d4af43509dc1aedcc474b505",
      "3cb4f33a61cb4cfd99251e4a285ba1c3",
      "85432669e483461bbccc62aa1e79dcdb",
      "90ec06a1379c4e77a261879b1b5a7b48",
      "ba91e514803c4a039d60356508900fcd",
      "efc3039dce8f4eeb9350743b72406356",
      "2277f5efa4734948b531a1f02fd88ba9",
      "0a7bd3f5e25d4bd595bd927ad911ba54",
      "f2b843a28c9c4f24bfbe9995352cfbdb",
      "c951ce98c98f4e4297e05fb246df9a1e",
      "7b371a8cac8d4b989484180c7ff734ae",
      "7d282935b0fd47b0bd8b2dd4efe91204"
     ]
    },
    "id": "vYyz_EEA1yET",
    "outputId": "fd6ccf4f-2f37-4b21-de55-e6a1d769070e"
   },
   "outputs": [],
   "source": [
    "import os\n",
    "from dotenv import load_dotenv\n",
    "from huggingface_hub import login\n",
    "\n",
    "load_dotenv(dotenv_path=\"/home/alex/dev/RobotInterpretability/.env\")\n",
    "HUGGING_FACE_TOKEN = os.getenv(\"HUGGING_FACE_TOKEN\")\n",
    "\n",
    "login(token=HUGGING_FACE_TOKEN)"
   ]
  },
  {
   "cell_type": "code",
   "execution_count": 6,
   "metadata": {
    "id": "0JZgOeBaWGNh"
   },
   "outputs": [
    {
     "name": "stderr",
     "output_type": "stream",
     "text": [
      "WARNING:root:float16 models may not work on CPU. Consider using a GPU or bfloat16.\n",
      "`torch_dtype` is deprecated! Use `dtype` instead!\n"
     ]
    },
    {
     "data": {
      "application/vnd.jupyter.widget-view+json": {
       "model_id": "103860adcb404bc5b0187d9cd660eaac",
       "version_major": 2,
       "version_minor": 0
      },
      "text/plain": [
       "Loading checkpoint shards:   0%|          | 0/2 [00:00<?, ?it/s]"
      ]
     },
     "metadata": {},
     "output_type": "display_data"
    },
    {
     "name": "stderr",
     "output_type": "stream",
     "text": [
      "WARNING:root:With reduced precision, it is advised to use `from_pretrained_no_processing` instead of `from_pretrained`.\n",
      "WARNING:root:You are not using LayerNorm, so the writing weights can't be centered! Skipping\n"
     ]
    },
    {
     "name": "stdout",
     "output_type": "stream",
     "text": [
      "Loaded pretrained model Llama-2-7B into HookedTransformer\n",
      "Moving model to device:  cuda\n"
     ]
    }
   ],
   "source": [
    "llama_model = HookedTransformer.from_pretrained(\n",
    "    \"Llama-2-7B\",\n",
    "    dtype=torch.float16,\n",
    "    device_map=\"auto\"\n",
    "    )\n",
    "llama_model.eval()\n",
    "if torch.cuda.is_available():\n",
    "  llama_model.to('cuda')"
   ]
  },
  {
   "cell_type": "code",
   "execution_count": 7,
   "metadata": {
    "id": "ZExJFurIjKHM"
   },
   "outputs": [],
   "source": [
    "SEED = 0\n",
    "sampling_kwargs = dict(temperature=1.0, top_p=0.3, freq_penalty=1.0)"
   ]
  },
  {
   "cell_type": "markdown",
   "metadata": {},
   "source": [
    " ## Fast vs. Slow example"
   ]
  },
  {
   "cell_type": "code",
   "execution_count": 8,
   "metadata": {},
   "outputs": [],
   "source": [
    "# Specific to the fast/slow example\n",
    "prompt_add, prompt_sub = \"Fast\", \"Slow\"\n",
    "coeff = 5\n",
    "act_name = 6\n",
    "prompt = \"A tortoise is\""
   ]
  },
  {
   "cell_type": "markdown",
   "metadata": {
    "id": "L1fWJ1P6jKHN"
   },
   "source": [
    " ## Padding\n",
    "\n",
    " We're taking the difference between Love & Hate residual streams, but we run into trouble because `Love` is a single token, whereas `Hate` is two tokens (`H`, `ate`). We solve this by right-padding `Love` with spaces until it's the same length as `Hate`. I've done this generically below, but conceptually it isn't important.\n",
    "\n",
    " (PS: We tried padding by model.tokenizer.eos_token and got worse results compared to spaces. We don't know why this is yet.)"
   ]
  },
  {
   "cell_type": "code",
   "execution_count": 9,
   "metadata": {
    "colab": {
     "base_uri": "https://localhost:8080/"
    },
    "id": "trVjeT6mjKHN",
    "outputId": "3b71739d-19b6-45e7-dda1-bd9c25a0e184"
   },
   "outputs": [
    {
     "name": "stdout",
     "output_type": "stream",
     "text": [
      "'Fast ' 'Slow'\n",
      "length add: 3, length sub: 3\n"
     ]
    }
   ],
   "source": [
    "tlen = lambda prompt: llama_model.to_tokens(prompt).shape[1]\n",
    "pad_right = lambda prompt, length: prompt + \" \" * (length - tlen(prompt))\n",
    "l = max(tlen(prompt_add), tlen(prompt_sub))\n",
    "prompt_add, prompt_sub = pad_right(prompt_add, l), pad_right(prompt_sub, l)\n",
    "\n",
    "print(f\"'{prompt_add}'\", f\"'{prompt_sub}'\")\n",
    "print(f\"length add: {tlen(prompt_add)}, length sub: {tlen(prompt_sub)}\")"
   ]
  },
  {
   "cell_type": "markdown",
   "metadata": {
    "id": "2h6X8zdojKHN"
   },
   "source": [
    " ## Get activations"
   ]
  },
  {
   "cell_type": "code",
   "execution_count": 11,
   "metadata": {
    "colab": {
     "base_uri": "https://localhost:8080/"
    },
    "id": "oBmgPFTAjKHO",
    "outputId": "e30d03c9-a835-4b7c-d412-dfc47db4b844"
   },
   "outputs": [],
   "source": [
    "def get_resid_pre(prompt: str, layer: int):\n",
    "    name = f\"blocks.{layer}.hook_resid_pre\"\n",
    "    cache, caching_hooks, _ = llama_model.get_caching_hooks(lambda n: n == name)\n",
    "    with llama_model.hooks(fwd_hooks=caching_hooks):\n",
    "        _ = llama_model(prompt)\n",
    "    return cache[name]\n",
    "\n",
    "def get_act_diff(prompt_add, prompt_sub):\n",
    "    act_add = get_resid_pre(prompt_add, act_name)\n",
    "    act_sub = get_resid_pre(prompt_sub, act_name)\n",
    "    act_diff = act_add - act_sub\n",
    "\n",
    "    return act_diff"
   ]
  },
  {
   "cell_type": "code",
   "execution_count": null,
   "metadata": {},
   "outputs": [
    {
     "name": "stdout",
     "output_type": "stream",
     "text": [
      "torch.Size([1, 3, 4096])\n"
     ]
    },
    {
     "ename": "",
     "evalue": "",
     "output_type": "error",
     "traceback": [
      "\u001b[1;31mThe Kernel crashed while executing code in the current cell or a previous cell. \n",
      "\u001b[1;31mPlease review the code in the cell(s) to identify a possible cause of the failure. \n",
      "\u001b[1;31mClick <a href='https://aka.ms/vscodeJupyterKernelCrash'>here</a> for more info. \n",
      "\u001b[1;31mView Jupyter <a href='command:jupyter.viewOutput'>log</a> for further details."
     ]
    }
   ],
   "source": [
    "act_diff = get_act_diff(prompt_add, prompt_sub)\n",
    "print(act_diff.shape)"
   ]
  },
  {
   "cell_type": "markdown",
   "metadata": {
    "id": "0Es4_UzrjKHO"
   },
   "source": [
    " ## Generate from the modified model"
   ]
  },
  {
   "cell_type": "code",
   "execution_count": null,
   "metadata": {
    "colab": {
     "base_uri": "https://localhost:8080/",
     "height": 477,
     "referenced_widgets": [
      "efbf24ce5a1046fb8e557a117eb2827c",
      "0a81b16d77c9405f802264c69a27f497",
      "fe9d2e62ab2342cca98d7bf5c3136eb5",
      "7efb8b0090db4cd29ecee656e5aa8b0e",
      "c58f7ba07b694a1b8aec9b526812be0a",
      "ced96cb750544f67be3cd2ecd041af3f",
      "21f42ea4cde24169872d759de3789c57",
      "11f6b62ac6224ca98b72e602b065cd12",
      "8205e3faefbf4ec980a0632ec1588d56",
      "c79e22e2e20245ffb052aadde89b4222",
      "721552e80c23488a9e66b68d02745395"
     ]
    },
    "id": "Ub8dUMe7jKHO",
    "outputId": "8ee2c53c-eaad-47ef-db3c-54ba6b4d21a5"
   },
   "outputs": [],
   "source": [
    "def ave_hook(resid_pre, hook):\n",
    "    if resid_pre.shape[1] == 1:\n",
    "        return  # caching in model.generate for new tokens\n",
    "\n",
    "    # We only add to the prompt (first call), not the generated tokens.\n",
    "    ppos, apos = resid_pre.shape[1], act_diff.shape[1]\n",
    "    assert apos <= ppos, f\"More mod tokens ({apos}) then prompt tokens ({ppos})!\"\n",
    "\n",
    "    # add to the beginning (position-wise) of the activations\n",
    "    resid_pre[:, :apos, :] += coeff * act_diff\n",
    "\n",
    "\n",
    "def hooked_generate(model,\n",
    "                    prompt_batch: List[str], \n",
    "                    fwd_hooks=[], \n",
    "                    seed=None, \n",
    "                    **kwargs):\n",
    "    if seed is not None:\n",
    "        torch.manual_seed(seed)\n",
    "\n",
    "    with model.hooks(fwd_hooks=fwd_hooks):\n",
    "        tokenized = model.to_tokens(prompt_batch)\n",
    "        r = model.generate(input=tokenized, max_new_tokens=50, do_sample=True, **kwargs)\n",
    "    return r\n",
    "\n",
    "def output_hooked_generation(model, act_name, prompt, sampling_kwargs):\n",
    "    editing_hooks = [(f\"blocks.{act_name}.hook_resid_pre\", ave_hook)]\n",
    "    res = hooked_generate(model, [prompt] * 4, editing_hooks, seed=SEED, **sampling_kwargs)\n",
    "\n",
    "    # Print results, removing the ugly beginning of sequence token\n",
    "    res_str = model.to_string(res[:, 1:])\n",
    "    print((\"\\n\\n\" + \"-\" * 80 + \"\\n\\n\").join(res_str))\n",
    "\n",
    "output_hooked_generation(model=llama_model,\n",
    "                         act_name=act_name,\n",
    "                         prompt=prompt,\n",
    "                         sampling_kwargs=sampling_kwargs\n",
    "                         )"
   ]
  },
  {
   "cell_type": "markdown",
   "metadata": {},
   "source": [
    "## Safe vs Dangerous Example"
   ]
  },
  {
   "cell_type": "code",
   "execution_count": null,
   "metadata": {},
   "outputs": [],
   "source": [
    "# Specific to the fast/slow example\n",
    "prompt_add, prompt_sub = \"Dangerous\", \"Safe\"\n",
    "coeff = 5\n",
    "act_name = 6\n",
    "prompt = \"A knife is\"\n",
    "\n",
    "\n",
    "tlen = lambda prompt: llama_model.to_tokens(prompt).shape[1]\n",
    "pad_right = lambda prompt, length: prompt + \" \" * (length - tlen(prompt))\n",
    "l = max(tlen(prompt_add), tlen(prompt_sub))\n",
    "prompt_add, prompt_sub = pad_right(prompt_add, l), pad_right(prompt_sub, l)\n",
    "\n",
    "print(f\"'{prompt_add}'\", f\"'{prompt_sub}'\")\n",
    "print(f\"length add: {tlen(prompt_add)}, length sub: {tlen(prompt_sub)}\")\n",
    "\n",
    "def ave_hook(resid_pre, hook):\n",
    "    if resid_pre.shape[1] == 1:\n",
    "        return  # caching in model.generate for new tokens\n",
    "\n",
    "    # We only add to the prompt (first call), not the generated tokens.\n",
    "    ppos, apos = resid_pre.shape[1], act_diff.shape[1]\n",
    "    assert apos <= ppos, f\"More mod tokens ({apos}) then prompt tokens ({ppos})!\"\n",
    "\n",
    "    # add to the beginning (position-wise) of the activations\n",
    "    resid_pre[:, :apos, :] += coeff * act_diff\n",
    "\n",
    "\n",
    "act_diff = get_act_diff(prompt_add, prompt_sub)\n",
    "print(act_diff.shape)\n",
    "\n",
    "\n",
    "output_hooked_generation(model=llama_model,\n",
    "                         act_name=act_name,\n",
    "                         prompt=prompt,\n",
    "                         sampling_kwargs=sampling_kwargs)"
   ]
  },
  {
   "cell_type": "code",
   "execution_count": null,
   "metadata": {},
   "outputs": [],
   "source": []
  }
 ],
 "metadata": {
  "accelerator": "GPU",
  "colab": {
   "machine_shape": "hm",
   "provenance": [],
   "toc_visible": true
  },
  "gpuClass": "standard",
  "kernelspec": {
   "display_name": "RobotInterpretability",
   "language": "python",
   "name": "python3"
  },
  "language_info": {
   "codemirror_mode": {
    "name": "ipython",
    "version": 3
   },
   "file_extension": ".py",
   "mimetype": "text/x-python",
   "name": "python",
   "nbconvert_exporter": "python",
   "pygments_lexer": "ipython3",
   "version": "3.13.7"
  },
  "widgets": {
   "application/vnd.jupyter.widget-state+json": {
    "0a7bd3f5e25d4bd595bd927ad911ba54": {
     "model_module": "@jupyter-widgets/controls",
     "model_module_version": "1.5.0",
     "model_name": "DescriptionStyleModel",
     "state": {
      "_model_module": "@jupyter-widgets/controls",
      "_model_module_version": "1.5.0",
      "_model_name": "DescriptionStyleModel",
      "_view_count": null,
      "_view_module": "@jupyter-widgets/base",
      "_view_module_version": "1.2.0",
      "_view_name": "StyleView",
      "description_width": ""
     }
    },
    "0a81b16d77c9405f802264c69a27f497": {
     "model_module": "@jupyter-widgets/controls",
     "model_module_version": "1.5.0",
     "model_name": "HTMLModel",
     "state": {
      "_dom_classes": [],
      "_model_module": "@jupyter-widgets/controls",
      "_model_module_version": "1.5.0",
      "_model_name": "HTMLModel",
      "_view_count": null,
      "_view_module": "@jupyter-widgets/controls",
      "_view_module_version": "1.5.0",
      "_view_name": "HTMLView",
      "description": "",
      "description_tooltip": null,
      "layout": "IPY_MODEL_ced96cb750544f67be3cd2ecd041af3f",
      "placeholder": "​",
      "style": "IPY_MODEL_21f42ea4cde24169872d759de3789c57",
      "value": "100%"
     }
    },
    "10dc61cad48945baade67e4410d66319": {
     "model_module": "@jupyter-widgets/controls",
     "model_module_version": "1.5.0",
     "model_name": "PasswordModel",
     "state": {
      "_dom_classes": [],
      "_model_module": "@jupyter-widgets/controls",
      "_model_module_version": "1.5.0",
      "_model_name": "PasswordModel",
      "_view_count": null,
      "_view_module": "@jupyter-widgets/controls",
      "_view_module_version": "1.5.0",
      "_view_name": "PasswordView",
      "continuous_update": true,
      "description": "Token:",
      "description_tooltip": null,
      "disabled": false,
      "layout": "IPY_MODEL_ba91e514803c4a039d60356508900fcd",
      "placeholder": "​",
      "style": "IPY_MODEL_efc3039dce8f4eeb9350743b72406356",
      "value": ""
     }
    },
    "11f6b62ac6224ca98b72e602b065cd12": {
     "model_module": "@jupyter-widgets/base",
     "model_module_version": "1.2.0",
     "model_name": "LayoutModel",
     "state": {
      "_model_module": "@jupyter-widgets/base",
      "_model_module_version": "1.2.0",
      "_model_name": "LayoutModel",
      "_view_count": null,
      "_view_module": "@jupyter-widgets/base",
      "_view_module_version": "1.2.0",
      "_view_name": "LayoutView",
      "align_content": null,
      "align_items": null,
      "align_self": null,
      "border": null,
      "bottom": null,
      "display": null,
      "flex": null,
      "flex_flow": null,
      "grid_area": null,
      "grid_auto_columns": null,
      "grid_auto_flow": null,
      "grid_auto_rows": null,
      "grid_column": null,
      "grid_gap": null,
      "grid_row": null,
      "grid_template_areas": null,
      "grid_template_columns": null,
      "grid_template_rows": null,
      "height": null,
      "justify_content": null,
      "justify_items": null,
      "left": null,
      "margin": null,
      "max_height": null,
      "max_width": null,
      "min_height": null,
      "min_width": null,
      "object_fit": null,
      "object_position": null,
      "order": null,
      "overflow": null,
      "overflow_x": null,
      "overflow_y": null,
      "padding": null,
      "right": null,
      "top": null,
      "visibility": null,
      "width": null
     }
    },
    "1da5133a293649fea4dcc98ece7dd821": {
     "model_module": "@jupyter-widgets/controls",
     "model_module_version": "1.5.0",
     "model_name": "ButtonModel",
     "state": {
      "_dom_classes": [],
      "_model_module": "@jupyter-widgets/controls",
      "_model_module_version": "1.5.0",
      "_model_name": "ButtonModel",
      "_view_count": null,
      "_view_module": "@jupyter-widgets/controls",
      "_view_module_version": "1.5.0",
      "_view_name": "ButtonView",
      "button_style": "",
      "description": "Login",
      "disabled": false,
      "icon": "",
      "layout": "IPY_MODEL_f2b843a28c9c4f24bfbe9995352cfbdb",
      "style": "IPY_MODEL_c951ce98c98f4e4297e05fb246df9a1e",
      "tooltip": ""
     }
    },
    "21f42ea4cde24169872d759de3789c57": {
     "model_module": "@jupyter-widgets/controls",
     "model_module_version": "1.5.0",
     "model_name": "DescriptionStyleModel",
     "state": {
      "_model_module": "@jupyter-widgets/controls",
      "_model_module_version": "1.5.0",
      "_model_name": "DescriptionStyleModel",
      "_view_count": null,
      "_view_module": "@jupyter-widgets/base",
      "_view_module_version": "1.2.0",
      "_view_name": "StyleView",
      "description_width": ""
     }
    },
    "2277f5efa4734948b531a1f02fd88ba9": {
     "model_module": "@jupyter-widgets/base",
     "model_module_version": "1.2.0",
     "model_name": "LayoutModel",
     "state": {
      "_model_module": "@jupyter-widgets/base",
      "_model_module_version": "1.2.0",
      "_model_name": "LayoutModel",
      "_view_count": null,
      "_view_module": "@jupyter-widgets/base",
      "_view_module_version": "1.2.0",
      "_view_name": "LayoutView",
      "align_content": null,
      "align_items": null,
      "align_self": null,
      "border": null,
      "bottom": null,
      "display": null,
      "flex": null,
      "flex_flow": null,
      "grid_area": null,
      "grid_auto_columns": null,
      "grid_auto_flow": null,
      "grid_auto_rows": null,
      "grid_column": null,
      "grid_gap": null,
      "grid_row": null,
      "grid_template_areas": null,
      "grid_template_columns": null,
      "grid_template_rows": null,
      "height": null,
      "justify_content": null,
      "justify_items": null,
      "left": null,
      "margin": null,
      "max_height": null,
      "max_width": null,
      "min_height": null,
      "min_width": null,
      "object_fit": null,
      "object_position": null,
      "order": null,
      "overflow": null,
      "overflow_x": null,
      "overflow_y": null,
      "padding": null,
      "right": null,
      "top": null,
      "visibility": null,
      "width": null
     }
    },
    "243eceee731b4f4eabd3538388a6d688": {
     "model_module": "@jupyter-widgets/controls",
     "model_module_version": "1.5.0",
     "model_name": "HTMLModel",
     "state": {
      "_dom_classes": [],
      "_model_module": "@jupyter-widgets/controls",
      "_model_module_version": "1.5.0",
      "_model_name": "HTMLModel",
      "_view_count": null,
      "_view_module": "@jupyter-widgets/controls",
      "_view_module_version": "1.5.0",
      "_view_name": "HTMLView",
      "description": "",
      "description_tooltip": null,
      "layout": "IPY_MODEL_85432669e483461bbccc62aa1e79dcdb",
      "placeholder": "​",
      "style": "IPY_MODEL_90ec06a1379c4e77a261879b1b5a7b48",
      "value": "<center> <img\nsrc=https://huggingface.co/front/assets/huggingface_logo-noborder.svg\nalt='Hugging Face'> <br> Copy a token from <a\nhref=\"https://huggingface.co/settings/tokens\" target=\"_blank\">your Hugging Face\ntokens page</a> and paste it below. <br> Immediately click login after copying\nyour token or it might be stored in plain text in this notebook file. </center>"
     }
    },
    "3cb4f33a61cb4cfd99251e4a285ba1c3": {
     "model_module": "@jupyter-widgets/base",
     "model_module_version": "1.2.0",
     "model_name": "LayoutModel",
     "state": {
      "_model_module": "@jupyter-widgets/base",
      "_model_module_version": "1.2.0",
      "_model_name": "LayoutModel",
      "_view_count": null,
      "_view_module": "@jupyter-widgets/base",
      "_view_module_version": "1.2.0",
      "_view_name": "LayoutView",
      "align_content": null,
      "align_items": "center",
      "align_self": null,
      "border": null,
      "bottom": null,
      "display": "flex",
      "flex": null,
      "flex_flow": "column",
      "grid_area": null,
      "grid_auto_columns": null,
      "grid_auto_flow": null,
      "grid_auto_rows": null,
      "grid_column": null,
      "grid_gap": null,
      "grid_row": null,
      "grid_template_areas": null,
      "grid_template_columns": null,
      "grid_template_rows": null,
      "height": null,
      "justify_content": null,
      "justify_items": null,
      "left": null,
      "margin": null,
      "max_height": null,
      "max_width": null,
      "min_height": null,
      "min_width": null,
      "object_fit": null,
      "object_position": null,
      "order": null,
      "overflow": null,
      "overflow_x": null,
      "overflow_y": null,
      "padding": null,
      "right": null,
      "top": null,
      "visibility": null,
      "width": "50%"
     }
    },
    "721552e80c23488a9e66b68d02745395": {
     "model_module": "@jupyter-widgets/controls",
     "model_module_version": "1.5.0",
     "model_name": "DescriptionStyleModel",
     "state": {
      "_model_module": "@jupyter-widgets/controls",
      "_model_module_version": "1.5.0",
      "_model_name": "DescriptionStyleModel",
      "_view_count": null,
      "_view_module": "@jupyter-widgets/base",
      "_view_module_version": "1.2.0",
      "_view_name": "StyleView",
      "description_width": ""
     }
    },
    "7b371a8cac8d4b989484180c7ff734ae": {
     "model_module": "@jupyter-widgets/base",
     "model_module_version": "1.2.0",
     "model_name": "LayoutModel",
     "state": {
      "_model_module": "@jupyter-widgets/base",
      "_model_module_version": "1.2.0",
      "_model_name": "LayoutModel",
      "_view_count": null,
      "_view_module": "@jupyter-widgets/base",
      "_view_module_version": "1.2.0",
      "_view_name": "LayoutView",
      "align_content": null,
      "align_items": null,
      "align_self": null,
      "border": null,
      "bottom": null,
      "display": null,
      "flex": null,
      "flex_flow": null,
      "grid_area": null,
      "grid_auto_columns": null,
      "grid_auto_flow": null,
      "grid_auto_rows": null,
      "grid_column": null,
      "grid_gap": null,
      "grid_row": null,
      "grid_template_areas": null,
      "grid_template_columns": null,
      "grid_template_rows": null,
      "height": null,
      "justify_content": null,
      "justify_items": null,
      "left": null,
      "margin": null,
      "max_height": null,
      "max_width": null,
      "min_height": null,
      "min_width": null,
      "object_fit": null,
      "object_position": null,
      "order": null,
      "overflow": null,
      "overflow_x": null,
      "overflow_y": null,
      "padding": null,
      "right": null,
      "top": null,
      "visibility": null,
      "width": null
     }
    },
    "7d282935b0fd47b0bd8b2dd4efe91204": {
     "model_module": "@jupyter-widgets/controls",
     "model_module_version": "1.5.0",
     "model_name": "DescriptionStyleModel",
     "state": {
      "_model_module": "@jupyter-widgets/controls",
      "_model_module_version": "1.5.0",
      "_model_name": "DescriptionStyleModel",
      "_view_count": null,
      "_view_module": "@jupyter-widgets/base",
      "_view_module_version": "1.2.0",
      "_view_name": "StyleView",
      "description_width": ""
     }
    },
    "7efb8b0090db4cd29ecee656e5aa8b0e": {
     "model_module": "@jupyter-widgets/controls",
     "model_module_version": "1.5.0",
     "model_name": "HTMLModel",
     "state": {
      "_dom_classes": [],
      "_model_module": "@jupyter-widgets/controls",
      "_model_module_version": "1.5.0",
      "_model_name": "HTMLModel",
      "_view_count": null,
      "_view_module": "@jupyter-widgets/controls",
      "_view_module_version": "1.5.0",
      "_view_name": "HTMLView",
      "description": "",
      "description_tooltip": null,
      "layout": "IPY_MODEL_c79e22e2e20245ffb052aadde89b4222",
      "placeholder": "​",
      "style": "IPY_MODEL_721552e80c23488a9e66b68d02745395",
      "value": " 50/50 [00:04&lt;00:00, 12.40it/s]"
     }
    },
    "8205e3faefbf4ec980a0632ec1588d56": {
     "model_module": "@jupyter-widgets/controls",
     "model_module_version": "1.5.0",
     "model_name": "ProgressStyleModel",
     "state": {
      "_model_module": "@jupyter-widgets/controls",
      "_model_module_version": "1.5.0",
      "_model_name": "ProgressStyleModel",
      "_view_count": null,
      "_view_module": "@jupyter-widgets/base",
      "_view_module_version": "1.2.0",
      "_view_name": "StyleView",
      "bar_color": null,
      "description_width": ""
     }
    },
    "85432669e483461bbccc62aa1e79dcdb": {
     "model_module": "@jupyter-widgets/base",
     "model_module_version": "1.2.0",
     "model_name": "LayoutModel",
     "state": {
      "_model_module": "@jupyter-widgets/base",
      "_model_module_version": "1.2.0",
      "_model_name": "LayoutModel",
      "_view_count": null,
      "_view_module": "@jupyter-widgets/base",
      "_view_module_version": "1.2.0",
      "_view_name": "LayoutView",
      "align_content": null,
      "align_items": null,
      "align_self": null,
      "border": null,
      "bottom": null,
      "display": null,
      "flex": null,
      "flex_flow": null,
      "grid_area": null,
      "grid_auto_columns": null,
      "grid_auto_flow": null,
      "grid_auto_rows": null,
      "grid_column": null,
      "grid_gap": null,
      "grid_row": null,
      "grid_template_areas": null,
      "grid_template_columns": null,
      "grid_template_rows": null,
      "height": null,
      "justify_content": null,
      "justify_items": null,
      "left": null,
      "margin": null,
      "max_height": null,
      "max_width": null,
      "min_height": null,
      "min_width": null,
      "object_fit": null,
      "object_position": null,
      "order": null,
      "overflow": null,
      "overflow_x": null,
      "overflow_y": null,
      "padding": null,
      "right": null,
      "top": null,
      "visibility": null,
      "width": null
     }
    },
    "90ec06a1379c4e77a261879b1b5a7b48": {
     "model_module": "@jupyter-widgets/controls",
     "model_module_version": "1.5.0",
     "model_name": "DescriptionStyleModel",
     "state": {
      "_model_module": "@jupyter-widgets/controls",
      "_model_module_version": "1.5.0",
      "_model_name": "DescriptionStyleModel",
      "_view_count": null,
      "_view_module": "@jupyter-widgets/base",
      "_view_module_version": "1.2.0",
      "_view_name": "StyleView",
      "description_width": ""
     }
    },
    "ad71e92f2d7c424d93436a5dc6939abd": {
     "model_module": "@jupyter-widgets/controls",
     "model_module_version": "1.5.0",
     "model_name": "CheckboxModel",
     "state": {
      "_dom_classes": [],
      "_model_module": "@jupyter-widgets/controls",
      "_model_module_version": "1.5.0",
      "_model_name": "CheckboxModel",
      "_view_count": null,
      "_view_module": "@jupyter-widgets/controls",
      "_view_module_version": "1.5.0",
      "_view_name": "CheckboxView",
      "description": "Add token as git credential?",
      "description_tooltip": null,
      "disabled": false,
      "indent": true,
      "layout": "IPY_MODEL_2277f5efa4734948b531a1f02fd88ba9",
      "style": "IPY_MODEL_0a7bd3f5e25d4bd595bd927ad911ba54",
      "value": true
     }
    },
    "ba91e514803c4a039d60356508900fcd": {
     "model_module": "@jupyter-widgets/base",
     "model_module_version": "1.2.0",
     "model_name": "LayoutModel",
     "state": {
      "_model_module": "@jupyter-widgets/base",
      "_model_module_version": "1.2.0",
      "_model_name": "LayoutModel",
      "_view_count": null,
      "_view_module": "@jupyter-widgets/base",
      "_view_module_version": "1.2.0",
      "_view_name": "LayoutView",
      "align_content": null,
      "align_items": null,
      "align_self": null,
      "border": null,
      "bottom": null,
      "display": null,
      "flex": null,
      "flex_flow": null,
      "grid_area": null,
      "grid_auto_columns": null,
      "grid_auto_flow": null,
      "grid_auto_rows": null,
      "grid_column": null,
      "grid_gap": null,
      "grid_row": null,
      "grid_template_areas": null,
      "grid_template_columns": null,
      "grid_template_rows": null,
      "height": null,
      "justify_content": null,
      "justify_items": null,
      "left": null,
      "margin": null,
      "max_height": null,
      "max_width": null,
      "min_height": null,
      "min_width": null,
      "object_fit": null,
      "object_position": null,
      "order": null,
      "overflow": null,
      "overflow_x": null,
      "overflow_y": null,
      "padding": null,
      "right": null,
      "top": null,
      "visibility": null,
      "width": null
     }
    },
    "bc12fcf44a1d45c995efea6a2f07b829": {
     "model_module": "@jupyter-widgets/controls",
     "model_module_version": "1.5.0",
     "model_name": "VBoxModel",
     "state": {
      "_dom_classes": [],
      "_model_module": "@jupyter-widgets/controls",
      "_model_module_version": "1.5.0",
      "_model_name": "VBoxModel",
      "_view_count": null,
      "_view_module": "@jupyter-widgets/controls",
      "_view_module_version": "1.5.0",
      "_view_name": "VBoxView",
      "box_style": "",
      "children": [
       "IPY_MODEL_243eceee731b4f4eabd3538388a6d688",
       "IPY_MODEL_10dc61cad48945baade67e4410d66319",
       "IPY_MODEL_ad71e92f2d7c424d93436a5dc6939abd",
       "IPY_MODEL_1da5133a293649fea4dcc98ece7dd821",
       "IPY_MODEL_e110b279d4af43509dc1aedcc474b505"
      ],
      "layout": "IPY_MODEL_3cb4f33a61cb4cfd99251e4a285ba1c3"
     }
    },
    "c58f7ba07b694a1b8aec9b526812be0a": {
     "model_module": "@jupyter-widgets/base",
     "model_module_version": "1.2.0",
     "model_name": "LayoutModel",
     "state": {
      "_model_module": "@jupyter-widgets/base",
      "_model_module_version": "1.2.0",
      "_model_name": "LayoutModel",
      "_view_count": null,
      "_view_module": "@jupyter-widgets/base",
      "_view_module_version": "1.2.0",
      "_view_name": "LayoutView",
      "align_content": null,
      "align_items": null,
      "align_self": null,
      "border": null,
      "bottom": null,
      "display": null,
      "flex": null,
      "flex_flow": null,
      "grid_area": null,
      "grid_auto_columns": null,
      "grid_auto_flow": null,
      "grid_auto_rows": null,
      "grid_column": null,
      "grid_gap": null,
      "grid_row": null,
      "grid_template_areas": null,
      "grid_template_columns": null,
      "grid_template_rows": null,
      "height": null,
      "justify_content": null,
      "justify_items": null,
      "left": null,
      "margin": null,
      "max_height": null,
      "max_width": null,
      "min_height": null,
      "min_width": null,
      "object_fit": null,
      "object_position": null,
      "order": null,
      "overflow": null,
      "overflow_x": null,
      "overflow_y": null,
      "padding": null,
      "right": null,
      "top": null,
      "visibility": null,
      "width": null
     }
    },
    "c79e22e2e20245ffb052aadde89b4222": {
     "model_module": "@jupyter-widgets/base",
     "model_module_version": "1.2.0",
     "model_name": "LayoutModel",
     "state": {
      "_model_module": "@jupyter-widgets/base",
      "_model_module_version": "1.2.0",
      "_model_name": "LayoutModel",
      "_view_count": null,
      "_view_module": "@jupyter-widgets/base",
      "_view_module_version": "1.2.0",
      "_view_name": "LayoutView",
      "align_content": null,
      "align_items": null,
      "align_self": null,
      "border": null,
      "bottom": null,
      "display": null,
      "flex": null,
      "flex_flow": null,
      "grid_area": null,
      "grid_auto_columns": null,
      "grid_auto_flow": null,
      "grid_auto_rows": null,
      "grid_column": null,
      "grid_gap": null,
      "grid_row": null,
      "grid_template_areas": null,
      "grid_template_columns": null,
      "grid_template_rows": null,
      "height": null,
      "justify_content": null,
      "justify_items": null,
      "left": null,
      "margin": null,
      "max_height": null,
      "max_width": null,
      "min_height": null,
      "min_width": null,
      "object_fit": null,
      "object_position": null,
      "order": null,
      "overflow": null,
      "overflow_x": null,
      "overflow_y": null,
      "padding": null,
      "right": null,
      "top": null,
      "visibility": null,
      "width": null
     }
    },
    "c951ce98c98f4e4297e05fb246df9a1e": {
     "model_module": "@jupyter-widgets/controls",
     "model_module_version": "1.5.0",
     "model_name": "ButtonStyleModel",
     "state": {
      "_model_module": "@jupyter-widgets/controls",
      "_model_module_version": "1.5.0",
      "_model_name": "ButtonStyleModel",
      "_view_count": null,
      "_view_module": "@jupyter-widgets/base",
      "_view_module_version": "1.2.0",
      "_view_name": "StyleView",
      "button_color": null,
      "font_weight": ""
     }
    },
    "ced96cb750544f67be3cd2ecd041af3f": {
     "model_module": "@jupyter-widgets/base",
     "model_module_version": "1.2.0",
     "model_name": "LayoutModel",
     "state": {
      "_model_module": "@jupyter-widgets/base",
      "_model_module_version": "1.2.0",
      "_model_name": "LayoutModel",
      "_view_count": null,
      "_view_module": "@jupyter-widgets/base",
      "_view_module_version": "1.2.0",
      "_view_name": "LayoutView",
      "align_content": null,
      "align_items": null,
      "align_self": null,
      "border": null,
      "bottom": null,
      "display": null,
      "flex": null,
      "flex_flow": null,
      "grid_area": null,
      "grid_auto_columns": null,
      "grid_auto_flow": null,
      "grid_auto_rows": null,
      "grid_column": null,
      "grid_gap": null,
      "grid_row": null,
      "grid_template_areas": null,
      "grid_template_columns": null,
      "grid_template_rows": null,
      "height": null,
      "justify_content": null,
      "justify_items": null,
      "left": null,
      "margin": null,
      "max_height": null,
      "max_width": null,
      "min_height": null,
      "min_width": null,
      "object_fit": null,
      "object_position": null,
      "order": null,
      "overflow": null,
      "overflow_x": null,
      "overflow_y": null,
      "padding": null,
      "right": null,
      "top": null,
      "visibility": null,
      "width": null
     }
    },
    "e110b279d4af43509dc1aedcc474b505": {
     "model_module": "@jupyter-widgets/controls",
     "model_module_version": "1.5.0",
     "model_name": "HTMLModel",
     "state": {
      "_dom_classes": [],
      "_model_module": "@jupyter-widgets/controls",
      "_model_module_version": "1.5.0",
      "_model_name": "HTMLModel",
      "_view_count": null,
      "_view_module": "@jupyter-widgets/controls",
      "_view_module_version": "1.5.0",
      "_view_name": "HTMLView",
      "description": "",
      "description_tooltip": null,
      "layout": "IPY_MODEL_7b371a8cac8d4b989484180c7ff734ae",
      "placeholder": "​",
      "style": "IPY_MODEL_7d282935b0fd47b0bd8b2dd4efe91204",
      "value": "\n<b>Pro Tip:</b> If you don't already have one, you can create a dedicated\n'notebooks' token with 'write' access, that you can then easily reuse for all\nnotebooks. </center>"
     }
    },
    "efbf24ce5a1046fb8e557a117eb2827c": {
     "model_module": "@jupyter-widgets/controls",
     "model_module_version": "1.5.0",
     "model_name": "HBoxModel",
     "state": {
      "_dom_classes": [],
      "_model_module": "@jupyter-widgets/controls",
      "_model_module_version": "1.5.0",
      "_model_name": "HBoxModel",
      "_view_count": null,
      "_view_module": "@jupyter-widgets/controls",
      "_view_module_version": "1.5.0",
      "_view_name": "HBoxView",
      "box_style": "",
      "children": [
       "IPY_MODEL_0a81b16d77c9405f802264c69a27f497",
       "IPY_MODEL_fe9d2e62ab2342cca98d7bf5c3136eb5",
       "IPY_MODEL_7efb8b0090db4cd29ecee656e5aa8b0e"
      ],
      "layout": "IPY_MODEL_c58f7ba07b694a1b8aec9b526812be0a"
     }
    },
    "efc3039dce8f4eeb9350743b72406356": {
     "model_module": "@jupyter-widgets/controls",
     "model_module_version": "1.5.0",
     "model_name": "DescriptionStyleModel",
     "state": {
      "_model_module": "@jupyter-widgets/controls",
      "_model_module_version": "1.5.0",
      "_model_name": "DescriptionStyleModel",
      "_view_count": null,
      "_view_module": "@jupyter-widgets/base",
      "_view_module_version": "1.2.0",
      "_view_name": "StyleView",
      "description_width": ""
     }
    },
    "f2b843a28c9c4f24bfbe9995352cfbdb": {
     "model_module": "@jupyter-widgets/base",
     "model_module_version": "1.2.0",
     "model_name": "LayoutModel",
     "state": {
      "_model_module": "@jupyter-widgets/base",
      "_model_module_version": "1.2.0",
      "_model_name": "LayoutModel",
      "_view_count": null,
      "_view_module": "@jupyter-widgets/base",
      "_view_module_version": "1.2.0",
      "_view_name": "LayoutView",
      "align_content": null,
      "align_items": null,
      "align_self": null,
      "border": null,
      "bottom": null,
      "display": null,
      "flex": null,
      "flex_flow": null,
      "grid_area": null,
      "grid_auto_columns": null,
      "grid_auto_flow": null,
      "grid_auto_rows": null,
      "grid_column": null,
      "grid_gap": null,
      "grid_row": null,
      "grid_template_areas": null,
      "grid_template_columns": null,
      "grid_template_rows": null,
      "height": null,
      "justify_content": null,
      "justify_items": null,
      "left": null,
      "margin": null,
      "max_height": null,
      "max_width": null,
      "min_height": null,
      "min_width": null,
      "object_fit": null,
      "object_position": null,
      "order": null,
      "overflow": null,
      "overflow_x": null,
      "overflow_y": null,
      "padding": null,
      "right": null,
      "top": null,
      "visibility": null,
      "width": null
     }
    },
    "fe9d2e62ab2342cca98d7bf5c3136eb5": {
     "model_module": "@jupyter-widgets/controls",
     "model_module_version": "1.5.0",
     "model_name": "FloatProgressModel",
     "state": {
      "_dom_classes": [],
      "_model_module": "@jupyter-widgets/controls",
      "_model_module_version": "1.5.0",
      "_model_name": "FloatProgressModel",
      "_view_count": null,
      "_view_module": "@jupyter-widgets/controls",
      "_view_module_version": "1.5.0",
      "_view_name": "ProgressView",
      "bar_style": "success",
      "description": "",
      "description_tooltip": null,
      "layout": "IPY_MODEL_11f6b62ac6224ca98b72e602b065cd12",
      "max": 50,
      "min": 0,
      "orientation": "horizontal",
      "style": "IPY_MODEL_8205e3faefbf4ec980a0632ec1588d56",
      "value": 50
     }
    }
   }
  }
 },
 "nbformat": 4,
 "nbformat_minor": 4
}
